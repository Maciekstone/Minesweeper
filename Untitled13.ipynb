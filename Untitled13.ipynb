{
 "cells": [
  {
   "cell_type": "code",
   "execution_count": 31,
   "metadata": {},
   "outputs": [],
   "source": [
    "def customnumberofmines(maptiles):   \n",
    "        while True:\n",
    "            try:\n",
    "                 mnumber = int(input(\"podaj liczbę min na mapie\"))\n",
    "            except ValueError:\n",
    "                print('podaj liczbę mniejszą niż ilość pól na mapie - {maptiles}')\n",
    "            if mnumber<maptiles:\n",
    "                break\n",
    "            else:\n",
    "                print('podaj liczbę mniejszą niż ilość pól na mapie - {}'.format(maptiles))\n",
    "                continue\n",
    "        return mnumber\n",
    "    "
   ]
  },
  {
   "cell_type": "code",
   "execution_count": 3,
   "metadata": {},
   "outputs": [
    {
     "name": "stdout",
     "output_type": "stream",
     "text": [
      "podaj liczbę min na mapie299\n",
      "podaj liczbę min na mapie20\n"
     ]
    },
    {
     "data": {
      "text/plain": [
       "20"
      ]
     },
     "execution_count": 3,
     "metadata": {},
     "output_type": "execute_result"
    }
   ],
   "source": [
    "customnumberofmines(100)"
   ]
  },
  {
   "cell_type": "code",
   "execution_count": 19,
   "metadata": {},
   "outputs": [],
   "source": [
    "def map(xmap,ymap):\n",
    "    global array\n",
    "    array = [[0 for x in range(xmap)] for y in range(ymap)]\n",
    "    #for x in array:\n",
    "        #print(\" \".join(str(cell) for cell in x))\n",
    "        #print(\" \")    \n",
    "    maptiles=xmap*ymap\n",
    "    "
   ]
  },
  {
   "cell_type": "code",
   "execution_count": 4,
   "metadata": {},
   "outputs": [
    {
     "name": "stdout",
     "output_type": "stream",
     "text": [
      "0 0 0 0 0 0 0 0 0 0 0 0 0 0 0 0 0 0 0 0 0 0 0\n",
      " \n",
      "0 0 0 0 0 0 0 0 0 0 0 0 0 0 0 0 0 0 0 0 0 0 0\n",
      " \n",
      "0 0 0 0 0 0 0 0 0 0 0 0 0 0 0 0 0 0 0 0 0 0 0\n",
      " \n",
      "0 0 0 0 0 0 0 0 0 0 0 0 0 0 0 0 0 0 0 0 0 0 0\n",
      " \n",
      "0 0 0 0 0 0 0 0 0 0 0 0 0 0 0 0 0 0 0 0 0 0 0\n",
      " \n",
      "0 0 0 0 0 0 0 0 0 0 0 0 0 0 0 0 0 0 0 0 0 0 0\n",
      " \n"
     ]
    }
   ],
   "source": [
    "map(23,6)"
   ]
  },
  {
   "cell_type": "code",
   "execution_count": 34,
   "metadata": {},
   "outputs": [],
   "source": [
    "def modes():\n",
    "    n=int(input(\"podaj poziom trudności od 1 do 5, napisz 0 aby ustalić tryb własny\"))\n",
    "    if n == 0:\n",
    "        customxaxis=int(input(\"podaj liczbę rzędów\"))\n",
    "        customyaxis=int(input(\"podaj liczbę kolumn\"))\n",
    "        customnumberofmines(customxaxis*customyaxis)\n",
    "        map(customxaxis,customyaxis)\n",
    "    elif n == 1:\n",
    "        map(5,5)\n",
    "        minesonmap=4    \n",
    "    elif n == 2:\n",
    "        map(9,9)\n",
    "        minesonmap=10\n",
    "    elif n == 3:\n",
    "        map(16,16)\n",
    "        minesonmap=40\n",
    "    elif n == 4:\n",
    "        map(16,30)\n",
    "        minesonmap=96\n",
    "  "
   ]
  },
  {
   "cell_type": "code",
   "execution_count": 33,
   "metadata": {},
   "outputs": [
    {
     "name": "stdout",
     "output_type": "stream",
     "text": [
      "podaj poziom trudności od 1 do 10, napisz 0 aby ustalić tryb własny0\n",
      "podaj liczbę rzędów10\n",
      "podaj liczbę kolumn10\n",
      "podaj liczbę min na mapie101\n",
      "podaj liczbę mniejszą niż ilość pól na mapie - 100\n",
      "podaj liczbę min na mapie100\n",
      "podaj liczbę mniejszą niż ilość pól na mapie - 100\n",
      "podaj liczbę min na mapie41\n"
     ]
    }
   ],
   "source": [
    "modes()"
   ]
  },
  {
   "cell_type": "code",
   "execution_count": 5,
   "metadata": {},
   "outputs": [],
   "source": [
    "from random import randint\n",
    "def minesplacer(mapx,mapy,minesonmap):\n",
    "        placeholder1=0\n",
    "        while placeholder1<minesonmap:\n",
    "            x=randint(0,mapx-1)\n",
    "            y=randint(0,mapy-1)\n",
    "            if array[y][x]=='X':\n",
    "                pass\n",
    "            else:\n",
    "                array[y][x]='X'\n",
    "                placeholder1=placeholder1+1"
   ]
  },
  {
   "cell_type": "code",
   "execution_count": 7,
   "metadata": {},
   "outputs": [
    {
     "ename": "TypeError",
     "evalue": "minesplacer() missing 3 required positional arguments: 'mapx', 'mapy', and 'minesonmap'",
     "output_type": "error",
     "traceback": [
      "\u001b[1;31m---------------------------------------------------------------------------\u001b[0m",
      "\u001b[1;31mTypeError\u001b[0m                                 Traceback (most recent call last)",
      "\u001b[1;32m<ipython-input-7-cc35ea35410a>\u001b[0m in \u001b[0;36m<module>\u001b[1;34m\u001b[0m\n\u001b[1;32m----> 1\u001b[1;33m \u001b[0mminesplacer\u001b[0m\u001b[1;33m(\u001b[0m\u001b[1;33m)\u001b[0m\u001b[1;33m\u001b[0m\u001b[1;33m\u001b[0m\u001b[0m\n\u001b[0m",
      "\u001b[1;31mTypeError\u001b[0m: minesplacer() missing 3 required positional arguments: 'mapx', 'mapy', and 'minesonmap'"
     ]
    }
   ],
   "source": [
    "minesplacer()"
   ]
  },
  {
   "cell_type": "code",
   "execution_count": 16,
   "metadata": {},
   "outputs": [],
   "source": [
    "def playermap(xmap,ymap):\n",
    "    pm = [['[ ]' for x in range(xmap)] for y in range(ymap)]\n",
    "    for x in pm:\n",
    "        print(\" \".join(str(cell) for cell in x))\n",
    "        print(\" \")    "
   ]
  },
  {
   "cell_type": "code",
   "execution_count": 17,
   "metadata": {},
   "outputs": [
    {
     "name": "stdout",
     "output_type": "stream",
     "text": [
      "[ ] [ ] [ ] [ ] [ ] [ ] [ ] [ ] [ ]\n",
      " \n",
      "[ ] [ ] [ ] [ ] [ ] [ ] [ ] [ ] [ ]\n",
      " \n",
      "[ ] [ ] [ ] [ ] [ ] [ ] [ ] [ ] [ ]\n",
      " \n",
      "[ ] [ ] [ ] [ ] [ ] [ ] [ ] [ ] [ ]\n",
      " \n",
      "[ ] [ ] [ ] [ ] [ ] [ ] [ ] [ ] [ ]\n",
      " \n",
      "[ ] [ ] [ ] [ ] [ ] [ ] [ ] [ ] [ ]\n",
      " \n",
      "[ ] [ ] [ ] [ ] [ ] [ ] [ ] [ ] [ ]\n",
      " \n",
      "[ ] [ ] [ ] [ ] [ ] [ ] [ ] [ ] [ ]\n",
      " \n",
      "[ ] [ ] [ ] [ ] [ ] [ ] [ ] [ ] [ ]\n",
      " \n"
     ]
    }
   ],
   "source": [
    "playermap(9,9)"
   ]
  },
  {
   "cell_type": "code",
   "execution_count": 20,
   "metadata": {},
   "outputs": [],
   "source": [
    "def player_guess(xmap,ymap):\n",
    "    while True:\n",
    "            try:\n",
    "                player_guess_X=int(input(\"podaj rząd\"))\n",
    "                player_guess_Y=int(input(\"podaj kolumnę\"))\n",
    "            except ValueError:\n",
    "                print('')\n",
    "            if player_guess_X<xmap or player_guess_Y<ymap:\n",
    "                break\n",
    "            else:\n",
    "                print(\"podaj współrzędne pola, które znajduje się w obrębach mapy\")\n"
   ]
  },
  {
   "cell_type": "code",
   "execution_count": null,
   "metadata": {},
   "outputs": [
    {
     "name": "stdout",
     "output_type": "stream",
     "text": [
      "podaj rząd100\n",
      "podaj kolumnę10\n",
      "podaj współrzędne pola, które znajduje się w obrębach mapy\n"
     ]
    }
   ],
   "source": [
    "player_guess(10,10)"
   ]
  },
  {
   "cell_type": "code",
   "execution_count": 104,
   "metadata": {},
   "outputs": [],
   "source": [
    "def minesvalue():\n",
    "    x=0\n",
    "    for i in array:\n",
    "        if 'X' in array[x]:\n",
    "            placeholder2=array[x].index('X')\n",
    "            try:\n",
    "                if array[x][placeholder2-1]!='X': #left\n",
    "                    array[x][placeholder2-1] += 1\n",
    "            except IndexError:\n",
    "                pass\n",
    "            try:\n",
    "                if array[x][placeholder2+1]!='X': #right\n",
    "                    array[x][placeholder2+1] += 1\n",
    "            except IndexError:\n",
    "                pass\n",
    "            try:\n",
    "                if array[x-1][placeholder2-1]!='X': #top left\n",
    "                    array[x-1][placeholder2-1] += 1\n",
    "            except IndexError:\n",
    "                pass\n",
    "            try:\n",
    "                if array[x-1][placeholder2]!='X': #top middle\n",
    "                    array[x-1][placeholder2] += 1\n",
    "            except IndexError:\n",
    "                pass\n",
    "            try:\n",
    "                if array[x-1][placeholder2+1]!='X': #top right\n",
    "                    array[x-1][placeholder2+1] += 1\n",
    "            except IndexError:\n",
    "                pass\n",
    "            try:\n",
    "                if array[x+1][placeholder2-1]!='X': #bottom left\n",
    "                    array[x+1][placeholder2-1] += 1\n",
    "            except IndexError:\n",
    "                pass\n",
    "            try:\n",
    "                if array[x+1][placeholder2]!='X': #bottom middle\n",
    "                    array[x+1][placeholder2] += 1\n",
    "            except IndexError:\n",
    "                pass\n",
    "            try:\n",
    "                if array[x+1][placeholder2+1]!='X': #bottom right\n",
    "                    array[x+1][placeholder2+1] += 1\n",
    "            except IndexError:\n",
    "                pass\n",
    "\n",
    "        x=x+1\n",
    "                \n",
    "        \n",
    "#jesli index istnieje to dodaj 1 jesli nie to pomińc chyba tak to działa, daj jeszcze, że jeśli dany index gdzie chce to napisać "
   ]
  },
  {
   "cell_type": "code",
   "execution_count": 99,
   "metadata": {},
   "outputs": [
    {
     "name": "stdout",
     "output_type": "stream",
     "text": [
      "sorry, no 5\n"
     ]
    }
   ],
   "source": [
    "ar=[1,2,3]\n",
    "\n",
    "try:\n",
    "    t=ar[5]\n",
    "except IndexError:\n",
    "    print('sorry, no 5')   \n"
   ]
  },
  {
   "cell_type": "code",
   "execution_count": 100,
   "metadata": {},
   "outputs": [
    {
     "ename": "SyntaxError",
     "evalue": "invalid syntax (<ipython-input-100-ea0c6594ac6b>, line 1)",
     "output_type": "error",
     "traceback": [
      "\u001b[1;36m  File \u001b[1;32m\"<ipython-input-100-ea0c6594ac6b>\"\u001b[1;36m, line \u001b[1;32m1\u001b[0m\n\u001b[1;33m    ins powoduje że jak piszesz to znikają znaki\u001b[0m\n\u001b[1;37m        ^\u001b[0m\n\u001b[1;31mSyntaxError\u001b[0m\u001b[1;31m:\u001b[0m invalid syntax\n"
     ]
    }
   ],
   "source": [
    "ins powoduje że jak piszesz to znikają znaki"
   ]
  },
  {
   "cell_type": "code",
   "execution_count": null,
   "metadata": {},
   "outputs": [],
   "source": []
  },
  {
   "cell_type": "code",
   "execution_count": 76,
   "metadata": {},
   "outputs": [
    {
     "ename": "IndexError",
     "evalue": "list index out of range",
     "output_type": "error",
     "traceback": [
      "\u001b[1;31m---------------------------------------------------------------------------\u001b[0m",
      "\u001b[1;31mIndexError\u001b[0m                                Traceback (most recent call last)",
      "\u001b[1;32m<ipython-input-76-8915484aea08>\u001b[0m in \u001b[0;36m<module>\u001b[1;34m\u001b[0m\n\u001b[0;32m      1\u001b[0m \u001b[0mmap\u001b[0m\u001b[1;33m(\u001b[0m\u001b[1;36m23\u001b[0m\u001b[1;33m,\u001b[0m\u001b[1;36m6\u001b[0m\u001b[1;33m)\u001b[0m\u001b[1;33m\u001b[0m\u001b[1;33m\u001b[0m\u001b[0m\n\u001b[0;32m      2\u001b[0m \u001b[0mminesplacer\u001b[0m\u001b[1;33m(\u001b[0m\u001b[1;36m23\u001b[0m\u001b[1;33m,\u001b[0m\u001b[1;36m6\u001b[0m\u001b[1;33m,\u001b[0m\u001b[1;36m36\u001b[0m\u001b[1;33m)\u001b[0m\u001b[1;33m\u001b[0m\u001b[1;33m\u001b[0m\u001b[0m\n\u001b[1;32m----> 3\u001b[1;33m \u001b[0mminesvalue\u001b[0m\u001b[1;33m(\u001b[0m\u001b[1;33m)\u001b[0m\u001b[1;33m\u001b[0m\u001b[1;33m\u001b[0m\u001b[0m\n\u001b[0m\u001b[0;32m      4\u001b[0m \u001b[1;32mfor\u001b[0m \u001b[0mx\u001b[0m \u001b[1;32min\u001b[0m \u001b[0marray\u001b[0m\u001b[1;33m:\u001b[0m\u001b[1;33m\u001b[0m\u001b[1;33m\u001b[0m\u001b[0m\n\u001b[0;32m      5\u001b[0m         \u001b[0mprint\u001b[0m\u001b[1;33m(\u001b[0m\u001b[1;34m\" \"\u001b[0m\u001b[1;33m.\u001b[0m\u001b[0mjoin\u001b[0m\u001b[1;33m(\u001b[0m\u001b[0mstr\u001b[0m\u001b[1;33m(\u001b[0m\u001b[0mcell\u001b[0m\u001b[1;33m)\u001b[0m \u001b[1;32mfor\u001b[0m \u001b[0mcell\u001b[0m \u001b[1;32min\u001b[0m \u001b[0mx\u001b[0m\u001b[1;33m)\u001b[0m\u001b[1;33m)\u001b[0m\u001b[1;33m\u001b[0m\u001b[1;33m\u001b[0m\u001b[0m\n",
      "\u001b[1;32m<ipython-input-75-1f5435c9d255>\u001b[0m in \u001b[0;36mminesvalue\u001b[1;34m()\u001b[0m\n\u001b[0;32m     54\u001b[0m     \u001b[0mx\u001b[0m\u001b[1;33m=\u001b[0m\u001b[1;36m6\u001b[0m\u001b[1;33m\u001b[0m\u001b[1;33m\u001b[0m\u001b[0m\n\u001b[0;32m     55\u001b[0m     \u001b[0mplaceholder2\u001b[0m\u001b[1;33m=\u001b[0m\u001b[1;36m0\u001b[0m\u001b[1;33m\u001b[0m\u001b[1;33m\u001b[0m\u001b[0m\n\u001b[1;32m---> 56\u001b[1;33m     \u001b[1;32mfor\u001b[0m \u001b[0my\u001b[0m \u001b[1;32min\u001b[0m \u001b[0marray\u001b[0m\u001b[1;33m[\u001b[0m\u001b[0mx\u001b[0m\u001b[1;33m]\u001b[0m\u001b[1;33m:\u001b[0m\u001b[1;33m\u001b[0m\u001b[1;33m\u001b[0m\u001b[0m\n\u001b[0m\u001b[0;32m     57\u001b[0m             \u001b[1;32mif\u001b[0m \u001b[0marray\u001b[0m\u001b[1;33m[\u001b[0m\u001b[0mx\u001b[0m\u001b[1;33m]\u001b[0m\u001b[1;33m[\u001b[0m\u001b[0mplaceholder2\u001b[0m\u001b[1;33m]\u001b[0m \u001b[1;33m!=\u001b[0m \u001b[1;34m'X'\u001b[0m\u001b[1;33m:\u001b[0m\u001b[1;33m\u001b[0m\u001b[1;33m\u001b[0m\u001b[0m\n\u001b[0;32m     58\u001b[0m                 \u001b[1;32mtry\u001b[0m\u001b[1;33m:\u001b[0m\u001b[1;33m\u001b[0m\u001b[1;33m\u001b[0m\u001b[0m\n",
      "\u001b[1;31mIndexError\u001b[0m: list index out of range"
     ]
    }
   ],
   "source": [
    "map(23,6)\n",
    "minesplacer(23,6,36)\n",
    "minesvalue()\n",
    "for x in array:\n",
    "        print(\" \".join(str(cell) for cell in x))\n",
    "        print(\" \") "
   ]
  },
  {
   "cell_type": "code",
   "execution_count": 63,
   "metadata": {},
   "outputs": [],
   "source": [
    "def minesvalue():\n",
    "    x=0\n",
    "    placeholder2=0\n",
    "    for i in array:\n",
    "        placeholder2=0\n",
    "        for y in array[x]:\n",
    "            if array[x][placeholder2] == 'X':\n",
    "                try:\n",
    "                    if array[x][placeholder2-1]!='X': #left\n",
    "                        array[x][placeholder2-1] += 1\n",
    "                except IndexError:\n",
    "                    pass\n",
    "                try:\n",
    "                    if array[x][placeholder2+1]!='X': #right\n",
    "                        array[x][placeholder2+1] += 1\n",
    "                except IndexError:\n",
    "                    pass\n",
    "                try:\n",
    "                    if array[x-1][placeholder2-1]!='X': #top left\n",
    "                        array[x-1][placeholder2-1] += 1\n",
    "                except IndexError:\n",
    "                    pass\n",
    "                try:\n",
    "                    if array[x-1][placeholder2]!='X': #top middle\n",
    "                        array[x-1][placeholder2] += 1\n",
    "                except IndexError:\n",
    "                    pass\n",
    "                try:\n",
    "                    if array[x-1][placeholder2+1]!='X': #top right\n",
    "                        array[x-1][placeholder2+1] += 1\n",
    "                except IndexError:\n",
    "                    pass\n",
    "                try:\n",
    "                    if array[x+1][placeholder2-1]!='X': #bottom left\n",
    "                        array[x+1][placeholder2-1] += 1\n",
    "                except IndexError:\n",
    "                    pass\n",
    "                try:\n",
    "                    if array[x+1][placeholder2]!='X': #bottom middle\n",
    "                        array[x+1][placeholder2] += 1\n",
    "                except IndexError:\n",
    "                    pass\n",
    "                try:\n",
    "                    if array[x+1][placeholder2+1]!='X': #bottom right\n",
    "                        array[x+1][placeholder2+1] += 1\n",
    "                except IndexError:\n",
    "                    pass\n",
    "            placeholder2=placeholder2+1\n",
    "        x=x+1\n",
    "        "
   ]
  },
  {
   "cell_type": "code",
   "execution_count": 45,
   "metadata": {},
   "outputs": [
    {
     "ename": "SyntaxError",
     "evalue": "unexpected EOF while parsing (<ipython-input-45-c7ca0bb9094c>, line 2)",
     "output_type": "error",
     "traceback": [
      "\u001b[1;36m  File \u001b[1;32m\"<ipython-input-45-c7ca0bb9094c>\"\u001b[1;36m, line \u001b[1;32m2\u001b[0m\n\u001b[1;33m    \u001b[0m\n\u001b[1;37m    ^\u001b[0m\n\u001b[1;31mSyntaxError\u001b[0m\u001b[1;31m:\u001b[0m unexpected EOF while parsing\n"
     ]
    }
   ],
   "source": [
    "if array[x][y]=='y':\n",
    "    "
   ]
  },
  {
   "cell_type": "code",
   "execution_count": 61,
   "metadata": {},
   "outputs": [],
   "source": [
    "def minesvalue():\n",
    "    value=0\n",
    "    x=0\n",
    "    placeholder2=0\n",
    "    for i in array:\n",
    "        placeholder2=0\n",
    "        for y in array[x]:\n",
    "            if array[x][placeholder2] != 'X':\n",
    "                try:\n",
    "                    if array[x][placeholder2-1]=='X': #left\n",
    "                        value += 1\n",
    "                except IndexError:\n",
    "                    continue\n",
    "                try:\n",
    "                    if array[x][placeholder2+1]=='X': #right\n",
    "                        value += 1\n",
    "                except IndexError:\n",
    "                    continue\n",
    "                try:\n",
    "                    if array[x-1][placeholder2-1]=='X': #top left\n",
    "                        value += 1\n",
    "                except IndexError:\n",
    "                    continue\n",
    "                try:\n",
    "                    if array[x-1][placeholder2]=='X': #top middle\n",
    "                        value += 1\n",
    "                except IndexError:\n",
    "                    continue\n",
    "                try:\n",
    "                    if array[x-1][placeholder2+1]=='X': #top right\n",
    "                        value += 1\n",
    "                except IndexError:\n",
    "                    continue\n",
    "                try:\n",
    "                    if array[x+1][placeholder2-1]=='X': #bottom left\n",
    "                        value += 1\n",
    "                except IndexError:\n",
    "                    continue\n",
    "                try:\n",
    "                    if array[x+1][placeholder2]=='X': #bottom middle\n",
    "                        value += 1\n",
    "                except IndexError:\n",
    "                    continue\n",
    "                try:\n",
    "                    if array[x+1][placeholder2+1]=='X': #bottom right\n",
    "                        value += 1\n",
    "                except IndexError:\n",
    "                    continue\n",
    "                array[x][placeholder2]=value\n",
    "        \n",
    "            placeholder2=placeholder2+1\n",
    "            value=0\n",
    "            \n",
    "        x=x+1\n",
    "        "
   ]
  },
  {
   "cell_type": "code",
   "execution_count": 75,
   "metadata": {},
   "outputs": [],
   "source": [
    "def minesvalue():\n",
    "    value=0\n",
    "    x=0\n",
    "    placeholder2=0\n",
    "    for i in array:\n",
    "        placeholder2=0\n",
    "        for y in array[x]:\n",
    "            if array[x][placeholder2] != 'X':\n",
    "                try:\n",
    "                    if array[x][placeholder2-1]=='X': #left\n",
    "                        value += 1\n",
    "                except IndexError:\n",
    "                    continue\n",
    "                try:\n",
    "                    if array[x][placeholder2+1]=='X': #right\n",
    "                        value += 1\n",
    "                except IndexError:\n",
    "                    continue\n",
    "                try:\n",
    "                    if array[x-1][placeholder2-1]=='X': #top left\n",
    "                        value += 1\n",
    "                except IndexError:\n",
    "                    continue\n",
    "                try:\n",
    "                    if array[x-1][placeholder2]=='X': #top middle\n",
    "                        value += 1\n",
    "                except IndexError:\n",
    "                    continue\n",
    "                try:\n",
    "                    if array[x-1][placeholder2+1]=='X': #top right\n",
    "                        value += 1\n",
    "                except IndexError:\n",
    "                    continue\n",
    "                try:\n",
    "                    if array[x+1][placeholder2-1]=='X': #bottom left\n",
    "                        value += 1\n",
    "                except IndexError:\n",
    "                    continue\n",
    "                try:\n",
    "                    if array[x+1][placeholder2]=='X': #bottom middle\n",
    "                        value += 1\n",
    "                except IndexError:\n",
    "                    continue\n",
    "                try:\n",
    "                    if array[x+1][placeholder2+1]=='X': #bottom right\n",
    "                        value += 1\n",
    "                except IndexError:\n",
    "                    continue\n",
    "                array[x][placeholder2]=value\n",
    "        \n",
    "            placeholder2=placeholder2+1\n",
    "            value=0\n",
    "        x=x+1\n",
    "    x=5\n",
    "    placeholder2=0\n",
    "    for y in array[x]:\n",
    "            if array[x][placeholder2] != 'X':\n",
    "                try:\n",
    "                    if array[x][placeholder2-1]=='X': #left\n",
    "                        value += 1\n",
    "                except IndexError:\n",
    "                    continue\n",
    "                try:\n",
    "                    if array[x][placeholder2+1]=='X': #right\n",
    "                        value += 1\n",
    "                except IndexError:\n",
    "                    continue\n",
    "                try:\n",
    "                    if array[x-1][placeholder2-1]=='X': #top left\n",
    "                        value += 1\n",
    "                except IndexError:\n",
    "                    continue\n",
    "                try:\n",
    "                    if array[x-1][placeholder2]=='X': #top middle\n",
    "                        value += 1\n",
    "                except IndexError:\n",
    "                    continue\n",
    "                try:\n",
    "                    if array[x-1][placeholder2+1]=='X': #top right\n",
    "                        value += 1\n",
    "                except IndexError:\n",
    "                    continue\n",
    "                try:\n",
    "                    if array[x+1][placeholder2-1]=='X': #bottom left\n",
    "                        value += 1\n",
    "                except IndexError:\n",
    "                    continue\n",
    "                try:\n",
    "                    if array[x+1][placeholder2]=='X': #bottom middle\n",
    "                        value += 1\n",
    "                except IndexError:\n",
    "                    continue\n",
    "                try:\n",
    "                    if array[x+1][placeholder2+1]=='X': #bottom right\n",
    "                        value += 1\n",
    "                except IndexError:\n",
    "                    continue\n",
    "                array[x][placeholder2]=value        \n",
    "        "
   ]
  },
  {
   "cell_type": "code",
   "execution_count": null,
   "metadata": {},
   "outputs": [],
   "source": []
  }
 ],
 "metadata": {
  "kernelspec": {
   "display_name": "Python 3",
   "language": "python",
   "name": "python3"
  },
  "language_info": {
   "codemirror_mode": {
    "name": "ipython",
    "version": 3
   },
   "file_extension": ".py",
   "mimetype": "text/x-python",
   "name": "python",
   "nbconvert_exporter": "python",
   "pygments_lexer": "ipython3",
   "version": "3.8.5"
  }
 },
 "nbformat": 4,
 "nbformat_minor": 4
}
